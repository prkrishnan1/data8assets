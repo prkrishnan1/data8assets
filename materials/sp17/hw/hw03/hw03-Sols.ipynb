{
 "cells": [
  {
   "cell_type": "markdown",
   "metadata": {},
   "source": [
    "# Homework 3: Tables and Charts\n",
    "Reading: Textbook chapters [5](http://www.inferentialthinking.com/chapters/05/tables.html) and [6](https://www.inferentialthinking.com/chapters/06/visualization.html).\n",
    "\n",
    "Please complete this notebook by filling in the cells provided. Before you begin, execute the following cell to load the provided tests. Each time you start your server, you will need to execute this cell again to load the tests."
   ]
  },
  {
   "cell_type": "code",
   "execution_count": 1,
   "metadata": {},
   "outputs": [],
   "source": [
    "# Don't change this cell; just run it. \n",
    "\n",
    "import numpy as np\n",
    "from datascience import *\n",
    "\n",
    "%matplotlib inline\n",
    "import matplotlib.pyplot as plots\n",
    "plots.style.use('fivethirtyeight')\n",
    "\n",
    "# from client.api.notebook import Notebook\n",
    "# ok = Notebook('hw03.ok')\n",
    "# _ = ok.auth(inline=True)"
   ]
  },
  {
   "cell_type": "markdown",
   "metadata": {},
   "source": [
    "**Important**: The `ok` tests don't usually tell you that your answer is correct. More often, they help catch careless mistakes. It's up to you to ensure that your answer is correct. If you're not sure, ask someone (not for the answer, but for some guidance about your approach)."
   ]
  },
  {
   "cell_type": "markdown",
   "metadata": {},
   "source": [
    "Once you're finished, select \"Save and Checkpoint\" in the File menu and then execute the `submit` cell below. The result will contain a link that you can use to check that your assignment has been submitted successfully. If you submit more than once before the deadline, we will only grade your final submission."
   ]
  },
  {
   "cell_type": "code",
   "execution_count": 2,
   "metadata": {},
   "outputs": [],
   "source": [
    "# _ = ok.submit()"
   ]
  },
  {
   "cell_type": "markdown",
   "metadata": {},
   "source": [
    "## 1. Unemployment\n"
   ]
  },
  {
   "cell_type": "markdown",
   "metadata": {},
   "source": [
    "The Federal Reserve Bank of St. Louis publishes data about jobs in the US.  Below we've loaded data on unemployment in the United States.  There are many ways of defining unemployment, and our dataset includes two notions of the unemployment rate:\n",
    "\n",
    "1. Among people who are able to work and are looking for a full-time job, the percentage who can't find a job.  This is called the Non-Employment Index, or NEI.\n",
    "2. Among people who are able to work and are looking for a full-time job, the percentage who can't find any job *or* are only working at a part-time job.  The latter group is called \"Part-Time for Economic Reasons\", so the acronym for this index is NEI-PTER.  (Economists are great at marketing.)\n",
    "\n",
    "The source of the data is [here](https://fred.stlouisfed.org/categories/33509)."
   ]
  },
  {
   "cell_type": "markdown",
   "metadata": {},
   "source": [
    "**Question 1.** The data are in a CSV file called `unemployment.csv`.  Load that file into a table called `unemployment`."
   ]
  },
  {
   "cell_type": "code",
   "execution_count": 3,
   "metadata": {
    "scrolled": true
   },
   "outputs": [
    {
     "data": {
      "text/html": [
       "<table border=\"1\" class=\"dataframe\">\n",
       "    <thead>\n",
       "        <tr>\n",
       "            <th>Date</th> <th>NEI</th> <th>NEI-PTER</th>\n",
       "        </tr>\n",
       "    </thead>\n",
       "    <tbody>\n",
       "        <tr>\n",
       "            <td>1994-01-01</td> <td>10.0974</td> <td>11.172  </td>\n",
       "        </tr>\n",
       "        <tr>\n",
       "            <td>1994-04-01</td> <td>9.6239 </td> <td>10.7883 </td>\n",
       "        </tr>\n",
       "        <tr>\n",
       "            <td>1994-07-01</td> <td>9.3276 </td> <td>10.4831 </td>\n",
       "        </tr>\n",
       "        <tr>\n",
       "            <td>1994-10-01</td> <td>9.1071 </td> <td>10.2361 </td>\n",
       "        </tr>\n",
       "        <tr>\n",
       "            <td>1995-01-01</td> <td>8.9693 </td> <td>10.1832 </td>\n",
       "        </tr>\n",
       "        <tr>\n",
       "            <td>1995-04-01</td> <td>9.0314 </td> <td>10.1071 </td>\n",
       "        </tr>\n",
       "        <tr>\n",
       "            <td>1995-07-01</td> <td>8.9802 </td> <td>10.1084 </td>\n",
       "        </tr>\n",
       "        <tr>\n",
       "            <td>1995-10-01</td> <td>8.9932 </td> <td>10.1046 </td>\n",
       "        </tr>\n",
       "        <tr>\n",
       "            <td>1996-01-01</td> <td>9.0002 </td> <td>10.0531 </td>\n",
       "        </tr>\n",
       "        <tr>\n",
       "            <td>1996-04-01</td> <td>8.9038 </td> <td>9.9782  </td>\n",
       "        </tr>\n",
       "    </tbody>\n",
       "</table>\n",
       "<p>... (80 rows omitted)</p>"
      ],
      "text/plain": [
       "Date       | NEI     | NEI-PTER\n",
       "1994-01-01 | 10.0974 | 11.172\n",
       "1994-04-01 | 9.6239  | 10.7883\n",
       "1994-07-01 | 9.3276  | 10.4831\n",
       "1994-10-01 | 9.1071  | 10.2361\n",
       "1995-01-01 | 8.9693  | 10.1832\n",
       "1995-04-01 | 9.0314  | 10.1071\n",
       "1995-07-01 | 8.9802  | 10.1084\n",
       "1995-10-01 | 8.9932  | 10.1046\n",
       "1996-01-01 | 9.0002  | 10.0531\n",
       "1996-04-01 | 8.9038  | 9.9782\n",
       "... (80 rows omitted)"
      ]
     },
     "execution_count": 3,
     "metadata": {},
     "output_type": "execute_result"
    }
   ],
   "source": [
    "unemployment = Table.read_table('unemployment.csv')\n",
    "unemployment"
   ]
  },
  {
   "cell_type": "code",
   "execution_count": 4,
   "metadata": {},
   "outputs": [],
   "source": [
    "#_ = ok.grade('q1_1')"
   ]
  },
  {
   "cell_type": "markdown",
   "metadata": {},
   "source": [
    "**Question 2.** Sort the data in decreasing order by NEI, naming the sorted table `by_nei`.  Create another table called `by_nei_pter` that's sorted in decreasing order by NEI-PTER instead."
   ]
  },
  {
   "cell_type": "code",
   "execution_count": 5,
   "metadata": {},
   "outputs": [],
   "source": [
    "by_nei = unemployment.sort('NEI', descending=True)\n",
    "by_nei_pter = unemployment.sort('NEI-PTER', descending=True)"
   ]
  },
  {
   "cell_type": "code",
   "execution_count": 6,
   "metadata": {},
   "outputs": [],
   "source": [
    "#_ = ok.grade('q1_2')"
   ]
  },
  {
   "cell_type": "markdown",
   "metadata": {},
   "source": [
    "**Question 3.** Use `take` to make a table containing the data for the 10 quarters when NEI was greatest.  Call that table `greatest_nei`."
   ]
  },
  {
   "cell_type": "code",
   "execution_count": 7,
   "metadata": {
    "scrolled": true
   },
   "outputs": [
    {
     "data": {
      "text/html": [
       "<table border=\"1\" class=\"dataframe\">\n",
       "    <thead>\n",
       "        <tr>\n",
       "            <th>Date</th> <th>NEI</th> <th>NEI-PTER</th>\n",
       "        </tr>\n",
       "    </thead>\n",
       "    <tbody>\n",
       "        <tr>\n",
       "            <td>2009-10-01</td> <td>10.9698</td> <td>12.8557 </td>\n",
       "        </tr>\n",
       "        <tr>\n",
       "            <td>2010-01-01</td> <td>10.9054</td> <td>12.7311 </td>\n",
       "        </tr>\n",
       "        <tr>\n",
       "            <td>2009-07-01</td> <td>10.8089</td> <td>12.7404 </td>\n",
       "        </tr>\n",
       "        <tr>\n",
       "            <td>2009-04-01</td> <td>10.7082</td> <td>12.5497 </td>\n",
       "        </tr>\n",
       "        <tr>\n",
       "            <td>2010-04-01</td> <td>10.6597</td> <td>12.5664 </td>\n",
       "        </tr>\n",
       "        <tr>\n",
       "            <td>2010-10-01</td> <td>10.5856</td> <td>12.4329 </td>\n",
       "        </tr>\n",
       "        <tr>\n",
       "            <td>2010-07-01</td> <td>10.5521</td> <td>12.3897 </td>\n",
       "        </tr>\n",
       "        <tr>\n",
       "            <td>2011-01-01</td> <td>10.5024</td> <td>12.3017 </td>\n",
       "        </tr>\n",
       "        <tr>\n",
       "            <td>2011-07-01</td> <td>10.4856</td> <td>12.2507 </td>\n",
       "        </tr>\n",
       "        <tr>\n",
       "            <td>2011-04-01</td> <td>10.4409</td> <td>12.247  </td>\n",
       "        </tr>\n",
       "    </tbody>\n",
       "</table>"
      ],
      "text/plain": [
       "Date       | NEI     | NEI-PTER\n",
       "2009-10-01 | 10.9698 | 12.8557\n",
       "2010-01-01 | 10.9054 | 12.7311\n",
       "2009-07-01 | 10.8089 | 12.7404\n",
       "2009-04-01 | 10.7082 | 12.5497\n",
       "2010-04-01 | 10.6597 | 12.5664\n",
       "2010-10-01 | 10.5856 | 12.4329\n",
       "2010-07-01 | 10.5521 | 12.3897\n",
       "2011-01-01 | 10.5024 | 12.3017\n",
       "2011-07-01 | 10.4856 | 12.2507\n",
       "2011-04-01 | 10.4409 | 12.247"
      ]
     },
     "execution_count": 7,
     "metadata": {},
     "output_type": "execute_result"
    }
   ],
   "source": [
    "greatest_nei = by_nei.take(np.arange(10))\n",
    "greatest_nei"
   ]
  },
  {
   "cell_type": "code",
   "execution_count": 8,
   "metadata": {},
   "outputs": [],
   "source": [
    "#_ = ok.grade('q1_3')"
   ]
  },
  {
   "cell_type": "markdown",
   "metadata": {},
   "source": [
    "**Question 4.** It's believed that many people became PTER (recall: \"Part-Time for Economic Reasons\") in the \"Great Recession\" of 2008-2009.  NEI-PTER is the percentage of people who are unemployed (and counted in the NEI) plus the percentage of people who are PTER.  Compute an array containing the percentage of people who were PTER in each quarter.  (The first element of the array should correspond to the first row of `unemployment`, and so on.)\n",
    "\n",
    "*Note:* Use the original `unemployment` table for this."
   ]
  },
  {
   "cell_type": "code",
   "execution_count": 9,
   "metadata": {},
   "outputs": [
    {
     "data": {
      "text/plain": [
       "array([ 1.0746,  1.1644,  1.1555,  1.129 ,  1.2139,  1.0757,  1.1282,\n",
       "        1.1114,  1.0529,  1.0744,  1.1004,  1.0747,  1.0705,  1.0455,\n",
       "        1.008 ,  0.9734,  0.9753,  0.8931,  0.9451,  0.8367,  0.8208,\n",
       "        0.8105,  0.8248,  0.7578,  0.7251,  0.7445,  0.7543,  0.7423,\n",
       "        0.7399,  0.7687,  0.8418,  0.9923,  0.9181,  0.9629,  0.9703,\n",
       "        0.9575,  1.0333,  1.0781,  1.0675,  1.0354,  1.0601,  1.01  ,\n",
       "        1.0042,  1.0368,  0.9704,  0.923 ,  0.9759,  0.93  ,  0.889 ,\n",
       "        0.821 ,  0.9409,  0.955 ,  0.898 ,  0.8948,  0.9523,  0.9579,\n",
       "        1.0149,  1.0762,  1.2873,  1.4335,  1.7446,  1.8415,  1.9315,\n",
       "        1.8859,  1.8257,  1.9067,  1.8376,  1.8473,  1.7993,  1.8061,\n",
       "        1.7651,  1.7927,  1.7286,  1.6387,  1.6808,  1.6805,  1.6629,\n",
       "        1.6253,  1.6477,  1.6298,  1.4796,  1.5131,  1.4866,  1.4345,\n",
       "        1.3675,  1.3097,  1.2319,  1.1735,  1.1844,  1.1746])"
      ]
     },
     "execution_count": 9,
     "metadata": {},
     "output_type": "execute_result"
    }
   ],
   "source": [
    "pter = unemployment.column('NEI-PTER') - unemployment.column('NEI')\n",
    "pter"
   ]
  },
  {
   "cell_type": "code",
   "execution_count": 10,
   "metadata": {},
   "outputs": [],
   "source": [
    "# _ = ok.grade('q1_4')"
   ]
  },
  {
   "cell_type": "markdown",
   "metadata": {},
   "source": [
    "**Question 5.** Add `pter` as a column to `unemployment` (named \"PTER\") and sort the resulting table by that column in decreasing order.  Call the table `by_pter`.\n",
    "\n",
    "Try to do this with a single line of code, if you can."
   ]
  },
  {
   "cell_type": "code",
   "execution_count": 11,
   "metadata": {
    "scrolled": true
   },
   "outputs": [
    {
     "data": {
      "text/html": [
       "<table border=\"1\" class=\"dataframe\">\n",
       "    <thead>\n",
       "        <tr>\n",
       "            <th>Date</th> <th>NEI</th> <th>NEI-PTER</th> <th>PTER</th>\n",
       "        </tr>\n",
       "    </thead>\n",
       "    <tbody>\n",
       "        <tr>\n",
       "            <td>2009-07-01</td> <td>10.8089</td> <td>12.7404 </td> <td>1.9315</td>\n",
       "        </tr>\n",
       "        <tr>\n",
       "            <td>2010-04-01</td> <td>10.6597</td> <td>12.5664 </td> <td>1.9067</td>\n",
       "        </tr>\n",
       "        <tr>\n",
       "            <td>2009-10-01</td> <td>10.9698</td> <td>12.8557 </td> <td>1.8859</td>\n",
       "        </tr>\n",
       "        <tr>\n",
       "            <td>2010-10-01</td> <td>10.5856</td> <td>12.4329 </td> <td>1.8473</td>\n",
       "        </tr>\n",
       "        <tr>\n",
       "            <td>2009-04-01</td> <td>10.7082</td> <td>12.5497 </td> <td>1.8415</td>\n",
       "        </tr>\n",
       "        <tr>\n",
       "            <td>2010-07-01</td> <td>10.5521</td> <td>12.3897 </td> <td>1.8376</td>\n",
       "        </tr>\n",
       "        <tr>\n",
       "            <td>2010-01-01</td> <td>10.9054</td> <td>12.7311 </td> <td>1.8257</td>\n",
       "        </tr>\n",
       "        <tr>\n",
       "            <td>2011-04-01</td> <td>10.4409</td> <td>12.247  </td> <td>1.8061</td>\n",
       "        </tr>\n",
       "        <tr>\n",
       "            <td>2011-01-01</td> <td>10.5024</td> <td>12.3017 </td> <td>1.7993</td>\n",
       "        </tr>\n",
       "        <tr>\n",
       "            <td>2011-10-01</td> <td>10.3287</td> <td>12.1214 </td> <td>1.7927</td>\n",
       "        </tr>\n",
       "    </tbody>\n",
       "</table>\n",
       "<p>... (80 rows omitted)</p>"
      ],
      "text/plain": [
       "Date       | NEI     | NEI-PTER | PTER\n",
       "2009-07-01 | 10.8089 | 12.7404  | 1.9315\n",
       "2010-04-01 | 10.6597 | 12.5664  | 1.9067\n",
       "2009-10-01 | 10.9698 | 12.8557  | 1.8859\n",
       "2010-10-01 | 10.5856 | 12.4329  | 1.8473\n",
       "2009-04-01 | 10.7082 | 12.5497  | 1.8415\n",
       "2010-07-01 | 10.5521 | 12.3897  | 1.8376\n",
       "2010-01-01 | 10.9054 | 12.7311  | 1.8257\n",
       "2011-04-01 | 10.4409 | 12.247   | 1.8061\n",
       "2011-01-01 | 10.5024 | 12.3017  | 1.7993\n",
       "2011-10-01 | 10.3287 | 12.1214  | 1.7927\n",
       "... (80 rows omitted)"
      ]
     },
     "execution_count": 11,
     "metadata": {},
     "output_type": "execute_result"
    }
   ],
   "source": [
    "by_pter = unemployment.with_column('PTER', pter).sort('PTER', descending=True)\n",
    "by_pter"
   ]
  },
  {
   "cell_type": "code",
   "execution_count": 12,
   "metadata": {},
   "outputs": [],
   "source": [
    "# _ = ok.grade('q1_5')"
   ]
  },
  {
   "cell_type": "markdown",
   "metadata": {},
   "source": [
    "**Question 6.** Does it seem true that the PTER rate was very high during the Great Recession, compared to other periods in the dataset? Justify your answer by referring to specific values in the table or by generating a chart."
   ]
  },
  {
   "cell_type": "markdown",
   "metadata": {
    "manual_grade": true,
    "manual_problem_id": "basic_sorting_6"
   },
   "source": [
    "Yes, the PTER rates that are highest seem to be during the Great Recession."
   ]
  },
  {
   "cell_type": "code",
   "execution_count": 13,
   "metadata": {
    "scrolled": true
   },
   "outputs": [
    {
     "data": {
      "image/png": "[encoded data removed]",
      "text/plain": [
       "<Figure size 432x432 with 1 Axes>"
      ]
     },
     "metadata": {},
     "output_type": "display_data"
    }
   ],
   "source": [
    "by_pter.sort('Date').plot('Date', 'PTER')"
   ]
  },
  {
   "cell_type": "markdown",
   "metadata": {},
   "source": [
    "## 2. Birth Rates\n"
   ]
  },
  {
   "cell_type": "markdown",
   "metadata": {},
   "source": [
    "The following table gives census-based population estimates for each state on July 1, 2015 and July 1, 2016. The last four columns describe the components of the estimated change in population during this time interval. *For all questions below, assume that the word \"states\" refers to all 52 rows including Puerto Rico & the District of Columbia.*"
   ]
  },
  {
   "cell_type": "code",
   "execution_count": 14,
   "metadata": {},
   "outputs": [
    {
     "data": {
      "text/html": [
       "<table border=\"1\" class=\"dataframe\">\n",
       "    <thead>\n",
       "        <tr>\n",
       "            <th>REGION</th> <th>NAME</th> <th>2015</th> <th>2016</th> <th>BIRTHS</th> <th>DEATHS</th> <th>MIGRATION</th> <th>OTHER</th>\n",
       "        </tr>\n",
       "    </thead>\n",
       "    <tbody>\n",
       "        <tr>\n",
       "            <td>3     </td> <td>Alabama   </td> <td>4,853,875 </td> <td>4,863,300 </td> <td>58,556 </td> <td>52,405 </td> <td>3,874    </td> <td>-600  </td>\n",
       "        </tr>\n",
       "        <tr>\n",
       "            <td>4     </td> <td>Alaska    </td> <td>737,709   </td> <td>741,894   </td> <td>11,255 </td> <td>4,511  </td> <td>-2,557   </td> <td>-2    </td>\n",
       "        </tr>\n",
       "        <tr>\n",
       "            <td>4     </td> <td>Arizona   </td> <td>6,817,565 </td> <td>6,931,071 </td> <td>87,204 </td> <td>56,564 </td> <td>76,405   </td> <td>6,461 </td>\n",
       "        </tr>\n",
       "        <tr>\n",
       "            <td>3     </td> <td>Arkansas  </td> <td>2,977,853 </td> <td>2,988,248 </td> <td>37,936 </td> <td>30,581 </td> <td>3,530    </td> <td>-490  </td>\n",
       "        </tr>\n",
       "        <tr>\n",
       "            <td>4     </td> <td>California</td> <td>38,993,940</td> <td>39,250,017</td> <td>502,848</td> <td>273,850</td> <td>33,530   </td> <td>-6,451</td>\n",
       "        </tr>\n",
       "    </tbody>\n",
       "</table>\n",
       "<p>... (47 rows omitted)</p>"
      ],
      "text/plain": [
       "<IPython.core.display.HTML object>"
      ]
     },
     "metadata": {},
     "output_type": "display_data"
    }
   ],
   "source": [
    "# Don't change this cell; just run it.\n",
    "# From http://www2.census.gov/programs-surveys/popest/datasets/2010-2016/national/totals/nst-est2016-alldata.csv\n",
    "# See http://www2.census.gov/programs-surveys/popest/datasets/2010-2015/national/totals/nst-est2015-alldata.pdf\n",
    "#     for column descriptions. (As of Feb 2017, no descriptions were posted for 2010-2016.)\n",
    "pop = Table.read_table('nst-est2016-alldata.csv').where('SUMLEV', 40).select([1, 4, 12, 13, 27, 34, 62, 69])\n",
    "pop = pop.relabeled(2, '2015').relabeled(3, '2016')\n",
    "pop = pop.relabeled(4, 'BIRTHS').relabeled(5, 'DEATHS')\n",
    "pop = pop.relabeled(6, 'MIGRATION').relabeled(7, 'OTHER')\n",
    "pop.set_format([2, 3, 4, 5, 6, 7], NumberFormatter(decimals=0)).show(5)"
   ]
  },
  {
   "cell_type": "markdown",
   "metadata": {},
   "source": [
    "**Question 1.** Assign `us_birth_rate` to the total US annual birth rate during this time interval. The annual birth rate for a year-long period is the number of births in that period as a proportion of the population at the start of the period."
   ]
  },
  {
   "cell_type": "code",
   "execution_count": 15,
   "metadata": {},
   "outputs": [
    {
     "data": {
      "text/plain": [
       "0.012358536498646102"
      ]
     },
     "execution_count": 15,
     "metadata": {},
     "output_type": "execute_result"
    }
   ],
   "source": [
    "us_birth_rate = np.sum(pop.column('BIRTHS')) / np.sum(pop.column('2015'))\n",
    "us_birth_rate"
   ]
  },
  {
   "cell_type": "code",
   "execution_count": 16,
   "metadata": {},
   "outputs": [],
   "source": [
    "# _ = ok.grade('q2_1')"
   ]
  },
  {
   "cell_type": "markdown",
   "metadata": {},
   "source": [
    "**Question 2.** Assign `fastest_growth` to an array of the names of the five states with the fastest population growth rates in *descending order of growth rate*."
   ]
  },
  {
   "cell_type": "code",
   "execution_count": 17,
   "metadata": {
    "scrolled": true
   },
   "outputs": [
    {
     "data": {
      "text/plain": [
       "array(['Utah', 'Nevada', 'Idaho', 'Florida', 'Washington'],\n",
       "      dtype='<U20')"
      ]
     },
     "execution_count": 17,
     "metadata": {},
     "output_type": "execute_result"
    }
   ],
   "source": [
    "fastest_growth = pop.with_column('growth_rate', (pop.column('2016') - pop.column('2015')) / pop.column('2015')).sort('growth_rate', descending=True).column('NAME')[:5]\n",
    "fastest_growth"
   ]
  },
  {
   "cell_type": "code",
   "execution_count": 18,
   "metadata": {},
   "outputs": [],
   "source": [
    "# _ = ok.grade('q2_2')"
   ]
  },
  {
   "cell_type": "markdown",
   "metadata": {},
   "source": [
    "**Question 3.** Assign `movers` to the number of states for which the absolute annual rate of migration was higher than 1%. The annual rate of migration for a year-long period is the net number of migrations (in and out) as a proportion of the population at the start of the period. The `MIGRATION` column contains estimated annual net migration counts by state."
   ]
  },
  {
   "cell_type": "code",
   "execution_count": 19,
   "metadata": {},
   "outputs": [
    {
     "data": {
      "text/plain": [
       "9"
      ]
     },
     "execution_count": 19,
     "metadata": {},
     "output_type": "execute_result"
    }
   ],
   "source": [
    "movers = pop.where((np.abs(pop.column('MIGRATION')) / pop.column('2015')) > 0.01).num_rows\n",
    "movers"
   ]
  },
  {
   "cell_type": "code",
   "execution_count": 20,
   "metadata": {},
   "outputs": [],
   "source": [
    "# _ = ok.grade('q2_3')"
   ]
  },
  {
   "cell_type": "markdown",
   "metadata": {},
   "source": [
    "**Question 4.** Assign `west_births` to the total number of births that occurred in region 4 (the Western US)."
   ]
  },
  {
   "cell_type": "code",
   "execution_count": 21,
   "metadata": {},
   "outputs": [
    {
     "data": {
      "text/plain": [
       "979657"
      ]
     },
     "execution_count": 21,
     "metadata": {},
     "output_type": "execute_result"
    }
   ],
   "source": [
    "west_births = np.sum(pop.where('REGION', '4').column('BIRTHS'))\n",
    "west_births"
   ]
  },
  {
   "cell_type": "code",
   "execution_count": 22,
   "metadata": {},
   "outputs": [],
   "source": [
    "# _ = ok.grade('q2_4')"
   ]
  },
  {
   "cell_type": "markdown",
   "metadata": {},
   "source": [
    "**Question 5.** Assign `less_than_west_births` to the number of states that had a total population in 2016 that was smaller than the *number of babies born in region 4 (the Western US)* during this time interval."
   ]
  },
  {
   "cell_type": "code",
   "execution_count": 23,
   "metadata": {},
   "outputs": [
    {
     "data": {
      "text/plain": [
       "7"
      ]
     },
     "execution_count": 23,
     "metadata": {},
     "output_type": "execute_result"
    }
   ],
   "source": [
    "less_than_west_births = pop.where(pop.column('2016') < west_births).num_rows\n",
    "less_than_west_births"
   ]
  },
  {
   "cell_type": "code",
   "execution_count": 24,
   "metadata": {},
   "outputs": [],
   "source": [
    "# _ = ok.grade('q2_5')"
   ]
  },
  {
   "cell_type": "markdown",
   "metadata": {},
   "source": [
    "**Question 6.** Was there an association between birth rate and death rate during this time interval? Use the code cell below to support your conclusion with a chart. If an association exists, what might explain it?"
   ]
  },
  {
   "cell_type": "markdown",
   "metadata": {
    "manual_grade": true,
    "manual_problem_id": "births_6"
   },
   "source": [
    "Yes, there is a negative association between birth and death rate. As birth rate increases, death rate decreases. If birth rate increases, a greater proportion of your population is less likely to die, leading to a lower death rate."
   ]
  },
  {
   "cell_type": "code",
   "execution_count": 25,
   "metadata": {},
   "outputs": [
    {
     "data": {
      "image/png": "[encoded data removed]",
      "text/plain": [
       "<Figure size 432x432 with 1 Axes>"
      ]
     },
     "metadata": {},
     "output_type": "display_data"
    }
   ],
   "source": [
    "# Generate a chart here to support your conclusion\n",
    "pop.with_columns('brate', pop.column('BIRTHS') / pop.column('2015'),\n",
    "                'drate', pop.column('DEATHS') / pop.column('2015')).plot('brate', 'drate')"
   ]
  },
  {
   "cell_type": "markdown",
   "metadata": {},
   "source": [
    "## 3. Consumer Financial Protection Bureau Complaints\n"
   ]
  },
  {
   "cell_type": "markdown",
   "metadata": {},
   "source": [
    "The Consumer Financial Protection Bureau has collected and published consumer complaints against financial companies since 2011.  The data are available [here](https://dev.socrata.com/foundry/data.consumerfinance.gov/jhzv-w97w) (or at this [direct link](https://data.consumerfinance.gov/resource/jhzv-w97w.csv).  For this exercise, to make your code run faster, we've selected only the data from May 2016.\n",
    "\n",
    "Run the next cell to load the data.  Each row represents one consumer's complaint."
   ]
  },
  {
   "cell_type": "code",
   "execution_count": 26,
   "metadata": {},
   "outputs": [
    {
     "data": {
      "text/html": [
       "<table border=\"1\" class=\"dataframe\">\n",
       "    <thead>\n",
       "        <tr>\n",
       "            <th>company</th> <th>company_public_response</th> <th>company_response</th> <th>complaint_id</th> <th>complaint_what_happened</th> <th>consumer_consent_provided</th> <th>consumer_disputed</th> <th>date_received</th> <th>date_sent_to_company</th> <th>issue</th> <th>product</th> <th>state</th> <th>sub_issue</th> <th>sub_product</th> <th>submitted_via</th> <th>tags</th> <th>timely</th> <th>zip_code</th>\n",
       "        </tr>\n",
       "    </thead>\n",
       "    <tbody>\n",
       "        <tr>\n",
       "            <td>TransUnion Intermediate Holdings, Inc.</td> <td>Company has responded to the consumer and the CFPB and c ...</td> <td>Closed with explanation        </td> <td>1920073     </td> <td>(None)                                                      </td> <td>(None)                   </td> <td>Yes              </td> <td>2016-05-11T15:39:07.000</td> <td>2016-05-11T15:39:07.000</td> <td>Credit reporting company's investigation</td> <td>Credit reporting</td> <td>VT   </td> <td>Inadequate help over the phone       </td> <td>(None)                                </td> <td>Phone        </td> <td>(None)        </td> <td>Yes   </td> <td>05035   </td>\n",
       "        </tr>\n",
       "        <tr>\n",
       "            <td>TransUnion Intermediate Holdings, Inc.</td> <td>Company has responded to the consumer and the CFPB and c ...</td> <td>Closed with explanation        </td> <td>1914777     </td> <td>(None)                                                      </td> <td>Consent not provided     </td> <td>No               </td> <td>2016-05-08T00:53:47.000</td> <td>2016-05-12T18:40:34.000</td> <td>Incorrect information on credit report  </td> <td>Credit reporting</td> <td>MO   </td> <td>Information is not mine              </td> <td>(None)                                </td> <td>Web          </td> <td>(None)        </td> <td>Yes   </td> <td>63020   </td>\n",
       "        </tr>\n",
       "        <tr>\n",
       "            <td>Bank of America                       </td> <td>Company has responded to the consumer and the CFPB and c ...</td> <td>Closed with explanation        </td> <td>1907306     </td> <td>I became aware of several charges on a Bank of America c ...</td> <td>Consent provided         </td> <td>No               </td> <td>2016-05-03T16:49:33.000</td> <td>2016-05-03T16:49:34.000</td> <td>Other                                   </td> <td>Credit card     </td> <td>VA   </td> <td>(None)                               </td> <td>(None)                                </td> <td>Web          </td> <td>(None)        </td> <td>Yes   </td> <td>239XX   </td>\n",
       "        </tr>\n",
       "        <tr>\n",
       "            <td>Finance of America Reverse LLC        </td> <td>Company believes it acted appropriately as authorized by ...</td> <td>Closed with explanation        </td> <td>1919055     </td> <td>I applied for a reverse mortgage and everthing was going ...</td> <td>Consent provided         </td> <td>No               </td> <td>2016-05-10T20:13:22.000</td> <td>2016-05-10T20:13:23.000</td> <td>Application, originator, mortgage broker</td> <td>Mortgage        </td> <td>TX   </td> <td>(None)                               </td> <td>Reverse mortgage                      </td> <td>Web          </td> <td>Older American</td> <td>Yes   </td> <td>774XX   </td>\n",
       "        </tr>\n",
       "        <tr>\n",
       "            <td>Acceptance Solutions Group, INC       </td> <td>Company believes it acted appropriately as authorized by ...</td> <td>Closed with explanation        </td> <td>1908628     </td> <td>Keeps calling numbers that are not mine. And talking to  ...</td> <td>Consent provided         </td> <td>No               </td> <td>2016-05-03T21:05:42.000</td> <td>2016-05-06T13:42:45.000</td> <td>Improper contact or sharing of info     </td> <td>Debt collection </td> <td>OH   </td> <td>Talked to a third party about my debt</td> <td>Payday loan                           </td> <td>Web          </td> <td>(None)        </td> <td>Yes   </td> <td>430XX   </td>\n",
       "        </tr>\n",
       "        <tr>\n",
       "            <td>Equifax                               </td> <td>(None)                                                      </td> <td>Closed with explanation        </td> <td>1909176     </td> <td>(None)                                                      </td> <td>(None)                   </td> <td>No               </td> <td>2016-05-04T20:08:06.000</td> <td>2016-05-09T15:11:00.000</td> <td>Incorrect information on credit report  </td> <td>Credit reporting</td> <td>NC   </td> <td>Information is not mine              </td> <td>(None)                                </td> <td>Postal mail  </td> <td>(None)        </td> <td>Yes   </td> <td>28052   </td>\n",
       "        </tr>\n",
       "        <tr>\n",
       "            <td>TransUnion Intermediate Holdings, Inc.</td> <td>Company has responded to the consumer and the CFPB and c ...</td> <td>Closed with explanation        </td> <td>1914477     </td> <td>When I enter my personal information to receive my credi ...</td> <td>Consent provided         </td> <td>No               </td> <td>2016-05-06T23:09:50.000</td> <td>2016-05-08T22:40:19.000</td> <td>Unable to get credit report/credit score</td> <td>Credit reporting</td> <td>OH   </td> <td>Problem getting my free annual report</td> <td>(None)                                </td> <td>Web          </td> <td>(None)        </td> <td>Yes   </td> <td>450XX   </td>\n",
       "        </tr>\n",
       "        <tr>\n",
       "            <td>Encore Capital Group                  </td> <td>(None)                                                      </td> <td>Closed with non-monetary relief</td> <td>1919937     </td> <td>(None)                                                      </td> <td>Consent not provided     </td> <td>(None)           </td> <td>2016-05-11T18:58:25.000</td> <td>2016-05-11T21:53:54.000</td> <td>Cont'd attempts collect debt not owed   </td> <td>Debt collection </td> <td>CT   </td> <td>Debt is not mine                     </td> <td>Credit card                           </td> <td>Web          </td> <td>Older American</td> <td>Yes   </td> <td>06801   </td>\n",
       "        </tr>\n",
       "        <tr>\n",
       "            <td>Nationstar Mortgage                   </td> <td>(None)                                                      </td> <td>Closed with explanation        </td> <td>1920517     </td> <td>I am livid with Nation Star for refusing to work with me ...</td> <td>Consent provided         </td> <td>(None)           </td> <td>2016-05-11T20:38:09.000</td> <td>2016-05-11T20:38:09.000</td> <td>Application, originator, mortgage broker</td> <td>Mortgage        </td> <td>IL   </td> <td>(None)                               </td> <td>Conventional adjustable mortgage (ARM)</td> <td>Web          </td> <td>(None)        </td> <td>Yes   </td> <td>606XX   </td>\n",
       "        </tr>\n",
       "        <tr>\n",
       "            <td>Convergent Resources, Inc.            </td> <td>(None)                                                      </td> <td>Closed with explanation        </td> <td>1920464     </td> <td>(None)                                                      </td> <td>Consent not provided     </td> <td>No               </td> <td>2016-05-11T12:16:31.000</td> <td>2016-05-11T12:16:32.000</td> <td>Cont'd attempts collect debt not owed   </td> <td>Debt collection </td> <td>TX   </td> <td>Debt is not mine                     </td> <td>Other (i.e. phone, health club, etc.) </td> <td>Web          </td> <td>(None)        </td> <td>Yes   </td> <td>78109   </td>\n",
       "        </tr>\n",
       "    </tbody>\n",
       "</table>\n",
       "<p>... (15021 rows omitted)</p>"
      ],
      "text/plain": [
       "company                                | company_public_response                                      | company_response                | complaint_id | complaint_what_happened                                      | consumer_consent_provided | consumer_disputed | date_received           | date_sent_to_company    | issue                                    | product          | state | sub_issue                             | sub_product                            | submitted_via | tags           | timely | zip_code\n",
       "TransUnion Intermediate Holdings, Inc. | Company has responded to the consumer and the CFPB and c ... | Closed with explanation         | 1920073      | (None)                                                       | (None)                    | Yes               | 2016-05-11T15:39:07.000 | 2016-05-11T15:39:07.000 | Credit reporting company's investigation | Credit reporting | VT    | Inadequate help over the phone        | (None)                                 | Phone         | (None)         | Yes    | 05035\n",
       "TransUnion Intermediate Holdings, Inc. | Company has responded to the consumer and the CFPB and c ... | Closed with explanation         | 1914777      | (None)                                                       | Consent not provided      | No                | 2016-05-08T00:53:47.000 | 2016-05-12T18:40:34.000 | Incorrect information on credit report   | Credit reporting | MO    | Information is not mine               | (None)                                 | Web           | (None)         | Yes    | 63020\n",
       "Bank of America                        | Company has responded to the consumer and the CFPB and c ... | Closed with explanation         | 1907306      | I became aware of several charges on a Bank of America c ... | Consent provided          | No                | 2016-05-03T16:49:33.000 | 2016-05-03T16:49:34.000 | Other                                    | Credit card      | VA    | (None)                                | (None)                                 | Web           | (None)         | Yes    | 239XX\n",
       "Finance of America Reverse LLC         | Company believes it acted appropriately as authorized by ... | Closed with explanation         | 1919055      | I applied for a reverse mortgage and everthing was going ... | Consent provided          | No                | 2016-05-10T20:13:22.000 | 2016-05-10T20:13:23.000 | Application, originator, mortgage broker | Mortgage         | TX    | (None)                                | Reverse mortgage                       | Web           | Older American | Yes    | 774XX\n",
       "Acceptance Solutions Group, INC        | Company believes it acted appropriately as authorized by ... | Closed with explanation         | 1908628      | Keeps calling numbers that are not mine. And talking to  ... | Consent provided          | No                | 2016-05-03T21:05:42.000 | 2016-05-06T13:42:45.000 | Improper contact or sharing of info      | Debt collection  | OH    | Talked to a third party about my debt | Payday loan                            | Web           | (None)         | Yes    | 430XX\n",
       "Equifax                                | (None)                                                       | Closed with explanation         | 1909176      | (None)                                                       | (None)                    | No                | 2016-05-04T20:08:06.000 | 2016-05-09T15:11:00.000 | Incorrect information on credit report   | Credit reporting | NC    | Information is not mine               | (None)                                 | Postal mail   | (None)         | Yes    | 28052\n",
       "TransUnion Intermediate Holdings, Inc. | Company has responded to the consumer and the CFPB and c ... | Closed with explanation         | 1914477      | When I enter my personal information to receive my credi ... | Consent provided          | No                | 2016-05-06T23:09:50.000 | 2016-05-08T22:40:19.000 | Unable to get credit report/credit score | Credit reporting | OH    | Problem getting my free annual report | (None)                                 | Web           | (None)         | Yes    | 450XX\n",
       "Encore Capital Group                   | (None)                                                       | Closed with non-monetary relief | 1919937      | (None)                                                       | Consent not provided      | (None)            | 2016-05-11T18:58:25.000 | 2016-05-11T21:53:54.000 | Cont'd attempts collect debt not owed    | Debt collection  | CT    | Debt is not mine                      | Credit card                            | Web           | Older American | Yes    | 06801\n",
       "Nationstar Mortgage                    | (None)                                                       | Closed with explanation         | 1920517      | I am livid with Nation Star for refusing to work with me ... | Consent provided          | (None)            | 2016-05-11T20:38:09.000 | 2016-05-11T20:38:09.000 | Application, originator, mortgage broker | Mortgage         | IL    | (None)                                | Conventional adjustable mortgage (ARM) | Web           | (None)         | Yes    | 606XX\n",
       "Convergent Resources, Inc.             | (None)                                                       | Closed with explanation         | 1920464      | (None)                                                       | Consent not provided      | No                | 2016-05-11T12:16:31.000 | 2016-05-11T12:16:32.000 | Cont'd attempts collect debt not owed    | Debt collection  | TX    | Debt is not mine                      | Other (i.e. phone, health club, etc.)  | Web           | (None)         | Yes    | 78109\n",
       "... (15021 rows omitted)"
      ]
     },
     "execution_count": 26,
     "metadata": {},
     "output_type": "execute_result"
    }
   ],
   "source": [
    "# Just run this cell.\n",
    "complaints = Table.read_table(\"complaints.csv\")\n",
    "complaints"
   ]
  },
  {
   "cell_type": "markdown",
   "metadata": {},
   "source": [
    "**Question 1.** Financial companies offer a variety of products.  How many complaints were made against each kind of product?  Make a table called `complaints_per_product` with one row per product category and 2 columns: \"product\" (the name of the product) and \"number of complaints\" (the number of complaints made against that kind of product)."
   ]
  },
  {
   "cell_type": "code",
   "execution_count": 27,
   "metadata": {},
   "outputs": [
    {
     "data": {
      "text/html": [
       "<table border=\"1\" class=\"dataframe\">\n",
       "    <thead>\n",
       "        <tr>\n",
       "            <th>product</th> <th>number of complaints</th>\n",
       "        </tr>\n",
       "    </thead>\n",
       "    <tbody>\n",
       "        <tr>\n",
       "            <td>Bank account or service</td> <td>1687                </td>\n",
       "        </tr>\n",
       "        <tr>\n",
       "            <td>Consumer Loan          </td> <td>775                 </td>\n",
       "        </tr>\n",
       "        <tr>\n",
       "            <td>Credit card            </td> <td>1566                </td>\n",
       "        </tr>\n",
       "        <tr>\n",
       "            <td>Credit reporting       </td> <td>3820                </td>\n",
       "        </tr>\n",
       "        <tr>\n",
       "            <td>Debt collection        </td> <td>3022                </td>\n",
       "        </tr>\n",
       "        <tr>\n",
       "            <td>Money transfers        </td> <td>142                 </td>\n",
       "        </tr>\n",
       "        <tr>\n",
       "            <td>Mortgage               </td> <td>3468                </td>\n",
       "        </tr>\n",
       "        <tr>\n",
       "            <td>Other financial service</td> <td>16                  </td>\n",
       "        </tr>\n",
       "        <tr>\n",
       "            <td>Payday loan            </td> <td>119                 </td>\n",
       "        </tr>\n",
       "        <tr>\n",
       "            <td>Prepaid card           </td> <td>110                 </td>\n",
       "        </tr>\n",
       "    </tbody>\n",
       "</table>\n",
       "<p>... (1 rows omitted)</p>"
      ],
      "text/plain": [
       "product                 | number of complaints\n",
       "Bank account or service | 1687\n",
       "Consumer Loan           | 775\n",
       "Credit card             | 1566\n",
       "Credit reporting        | 3820\n",
       "Debt collection         | 3022\n",
       "Money transfers         | 142\n",
       "Mortgage                | 3468\n",
       "Other financial service | 16\n",
       "Payday loan             | 119\n",
       "Prepaid card            | 110\n",
       "... (1 rows omitted)"
      ]
     },
     "execution_count": 27,
     "metadata": {},
     "output_type": "execute_result"
    }
   ],
   "source": [
    "complaints_per_product = complaints.with_column('number of complaints', np.ones(complaints.num_rows)).select('product', 'number of complaints').group('product', collect=sum).relabeled('number of complaints sum', 'number of complaints')\n",
    "complaints_per_product"
   ]
  },
  {
   "cell_type": "code",
   "execution_count": 28,
   "metadata": {},
   "outputs": [],
   "source": [
    "# _ = ok.grade('q3_1')"
   ]
  },
  {
   "cell_type": "markdown",
   "metadata": {},
   "source": [
    "**Question 2.** Make a bar chart showing how many complaints were made about each product category. Sort the bars from shortest to longest."
   ]
  },
  {
   "cell_type": "code",
   "execution_count": 29,
   "metadata": {},
   "outputs": [
    {
     "data": {
      "image/png": "[encoded data removed]",
      "text/plain": [
       "<Figure size 432x396 with 1 Axes>"
      ]
     },
     "metadata": {},
     "output_type": "display_data"
    }
   ],
   "source": [
    "complaints_per_product.sort('number of complaints', descending=True).barh('product')"
   ]
  },
  {
   "cell_type": "markdown",
   "metadata": {},
   "source": [
    "**Question 3.** Make a table of the number of complaints made against each *company*.  Call it `complaints_per_company`.  It should have one row per company and 2 columns: \"company\" (the name of the company) and \"number of complaints\" (the number of complaints made against that company)."
   ]
  },
  {
   "cell_type": "code",
   "execution_count": 30,
   "metadata": {},
   "outputs": [
    {
     "data": {
      "text/html": [
       "<table border=\"1\" class=\"dataframe\">\n",
       "    <thead>\n",
       "        <tr>\n",
       "            <th>company</th> <th>number of complaints</th>\n",
       "        </tr>\n",
       "    </thead>\n",
       "    <tbody>\n",
       "        <tr>\n",
       "            <td>1st Preference Mortgage  </td> <td>2                   </td>\n",
       "        </tr>\n",
       "        <tr>\n",
       "            <td>21st Mortgage Corporation</td> <td>7                   </td>\n",
       "        </tr>\n",
       "        <tr>\n",
       "            <td>2288984 Ontario Inc.     </td> <td>3                   </td>\n",
       "        </tr>\n",
       "        <tr>\n",
       "            <td>360 Mortgage             </td> <td>1                   </td>\n",
       "        </tr>\n",
       "        <tr>\n",
       "            <td>3rd Generation, Inc.     </td> <td>1                   </td>\n",
       "        </tr>\n",
       "        <tr>\n",
       "            <td>4M Collections, LLC      </td> <td>1                   </td>\n",
       "        </tr>\n",
       "        <tr>\n",
       "            <td>A.R.M. Solutions, Inc.   </td> <td>2                   </td>\n",
       "        </tr>\n",
       "        <tr>\n",
       "            <td>AC Autopay, LLC          </td> <td>1                   </td>\n",
       "        </tr>\n",
       "        <tr>\n",
       "            <td>ACE Cash Express Inc.    </td> <td>21                  </td>\n",
       "        </tr>\n",
       "        <tr>\n",
       "            <td>ACS Education Services   </td> <td>8                   </td>\n",
       "        </tr>\n",
       "    </tbody>\n",
       "</table>\n",
       "<p>... (1131 rows omitted)</p>"
      ],
      "text/plain": [
       "company                   | number of complaints\n",
       "1st Preference Mortgage   | 2\n",
       "21st Mortgage Corporation | 7\n",
       "2288984 Ontario Inc.      | 3\n",
       "360 Mortgage              | 1\n",
       "3rd Generation, Inc.      | 1\n",
       "4M Collections, LLC       | 1\n",
       "A.R.M. Solutions, Inc.    | 2\n",
       "AC Autopay, LLC           | 1\n",
       "ACE Cash Express Inc.     | 21\n",
       "ACS Education Services    | 8\n",
       "... (1131 rows omitted)"
      ]
     },
     "execution_count": 30,
     "metadata": {},
     "output_type": "execute_result"
    }
   ],
   "source": [
    "complaints_per_company = complaints.with_column('number of complaints', np.ones(complaints.num_rows)).select('company', 'number of complaints').group('company', collect=sum).relabeled('number of complaints sum', 'number of complaints')\n",
    "complaints_per_company"
   ]
  },
  {
   "cell_type": "code",
   "execution_count": 31,
   "metadata": {},
   "outputs": [],
   "source": [
    "# _ = ok.grade('q3_3')"
   ]
  },
  {
   "cell_type": "markdown",
   "metadata": {},
   "source": [
    "**Question 4.** It wouldn't be a good idea to make a bar chart of that data.  (Don't try it!)  Why not?"
   ]
  },
  {
   "cell_type": "markdown",
   "metadata": {
    "manual_grade": true,
    "manual_problem_id": "cfpb_complaints_4"
   },
   "source": [
    "There are over 1000 companies, so the bar chart would be very hard to read."
   ]
  },
  {
   "cell_type": "markdown",
   "metadata": {},
   "source": [
    "**Question 5.** Make a bar chart of just the 10 companies with the most complaints. "
   ]
  },
  {
   "cell_type": "code",
   "execution_count": 32,
   "metadata": {
    "scrolled": true
   },
   "outputs": [
    {
     "data": {
      "image/png": "[encoded data removed]",
      "text/plain": [
       "<Figure size 432x360 with 1 Axes>"
      ]
     },
     "metadata": {},
     "output_type": "display_data"
    }
   ],
   "source": [
    "complaints_per_company.sort('number of complaints', descending=True).take(np.arange(10)).barh('company')"
   ]
  },
  {
   "cell_type": "markdown",
   "metadata": {},
   "source": [
    "**Question 6.** Make a bar chart like the one above, with one difference: The size of each company's bar should be the *proportion* (among *all complaints* made against any company in `complaints`) that were made against that company.\n",
    "\n",
    "**Note:** Graphs aren't very useful without accurate labels.  Make sure that the text on the horizontal axis of the graph makes sense."
   ]
  },
  {
   "cell_type": "code",
   "execution_count": 33,
   "metadata": {},
   "outputs": [
    {
     "data": {
      "image/png": "[encoded data removed]",
      "text/plain": [
       "<Figure size 432x360 with 1 Axes>"
      ]
     },
     "metadata": {},
     "output_type": "display_data"
    }
   ],
   "source": [
    "proportions = complaints_per_company.column('number of complaints') / np.sum(complaints_per_company.column('number of complaints'))\n",
    "complaints_per_company.with_column('proportion of complaints', proportions) \\\n",
    ".select('company', 'proportion of complaints') \\\n",
    ".sort('proportion of complaints', descending=True).take(np.arange(10)) \\\n",
    ".barh('company')"
   ]
  },
  {
   "cell_type": "markdown",
   "metadata": {},
   "source": [
    "## 4. Marginal Histograms\n"
   ]
  },
  {
   "cell_type": "markdown",
   "metadata": {},
   "source": [
    "Consider the following scatter plot: ![](scatter.png)\n",
    "\n",
    "The axes of the plot represent values of two variables: $x$ and $y$. "
   ]
  },
  {
   "cell_type": "markdown",
   "metadata": {},
   "source": [
    "Suppose we have a table called `t` that has two columns in it:\n",
    "\n",
    "- `x`: a column containing the x-values of the points in the scatter plot\n",
    "- `y`: a column containing the y-values of the points in the scatter plot"
   ]
  },
  {
   "cell_type": "markdown",
   "metadata": {},
   "source": [
    "**Question 1:** Match each of the following lines of code to the histograms they produce. Explain your reasoning.\n",
    "\n",
    "**Line 1:** `t.hist('x')`\n",
    "\n",
    "**Line 2:** `t.hist('y')`"
   ]
  },
  {
   "cell_type": "markdown",
   "metadata": {},
   "source": [
    "**Histogram A:** ![](var1.png)\n",
    "**Histogram B:** ![](var2.png)"
   ]
  },
  {
   "cell_type": "markdown",
   "metadata": {
    "for_assignment_type": "student"
   },
   "source": [
    "**Histogram for Line 1:**\n",
    "Histogram B\n",
    "**Explanation:**\n",
    "A histogram for x should have the highest density around -1 to 0, which matches histogram B, not histogram A."
   ]
  },
  {
   "cell_type": "markdown",
   "metadata": {
    "for_assignment_type": "student"
   },
   "source": [
    "**Histogram for Line 2:**\n",
    "Histogram A\n",
    "**Explanation:**\n",
    "A histogram for y should have 0 density around y = 0, which matches histogram A."
   ]
  },
  {
   "cell_type": "code",
   "execution_count": null,
   "metadata": {},
   "outputs": [],
   "source": []
  }
 ],
 "metadata": {
  "kernelspec": {
   "display_name": "Python 3 (ipykernel)",
   "language": "python",
   "name": "python3"
  },
  "language_info": {
   "codemirror_mode": {
    "name": "ipython",
    "version": 3
   },
   "file_extension": ".py",
   "mimetype": "text/x-python",
   "name": "python",
   "nbconvert_exporter": "python",
   "pygments_lexer": "ipython3",
   "version": "3.9.6"
  }
 },
 "nbformat": 4,
 "nbformat_minor": 1
}
